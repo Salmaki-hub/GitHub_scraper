{
 "cells": [
  {
   "cell_type": "markdown",
   "id": "48432784",
   "metadata": {},
   "source": [
    "Importing Libraries"
   ]
  },
  {
   "cell_type": "code",
   "execution_count": 1,
   "id": "9ada6089",
   "metadata": {},
   "outputs": [],
   "source": [
    "import pandas as pd\n",
    "import requests\n",
    "from bs4 import BeautifulSoup"
   ]
  },
  {
   "cell_type": "markdown",
   "id": "ee6a8e3c",
   "metadata": {},
   "source": [
    "Getting Response"
   ]
  },
  {
   "cell_type": "code",
   "execution_count": 3,
   "id": "a3182ef7",
   "metadata": {},
   "outputs": [],
   "source": [
    "url=\"https://github.com/topics\"\n",
    "response = requests.get(url)\n",
    "soup = BeautifulSoup(response.text,'html.parser')"
   ]
  },
  {
   "cell_type": "code",
   "execution_count": null,
   "id": "f60c0e33",
   "metadata": {},
   "outputs": [],
   "source": [
    "base_url = \"https://github.com/\"\n",
    "topic_name = soup.find_all('p',class_=\"f3 lh-condensed mb-0 mt-1 Link--primary\")\n",
    "topic_description = soup.find_all('p',class_=\"f5 color-fg-muted mb-0 mt-1\")\n",
    "topic_url = soup.find_all('a',class_=\"no-underline flex-1 d-flex flex-column\")"
   ]
  },
  {
   "cell_type": "markdown",
   "id": "9c26f20d",
   "metadata": {},
   "source": [
    "Adding the info in their respective arrays"
   ]
  },
  {
   "cell_type": "code",
   "execution_count": 31,
   "id": "eeb85e20",
   "metadata": {},
   "outputs": [],
   "source": [
    "topic_name_array=[]\n",
    "topic_description_array=[]\n",
    "topic_url_array=[]\n",
    "\n",
    "for i in topic_name:\n",
    "    topic_name_array.append(i.text)\n",
    "for i in topic_description:\n",
    "    topic_description_array.append(i.text.strip())\n",
    "for i in topic_url:\n",
    "    topic_url_array.append(base_url+i['href'])"
   ]
  },
  {
   "cell_type": "markdown",
   "id": "7cd48f9c",
   "metadata": {},
   "source": [
    "Converting to DataFrame"
   ]
  },
  {
   "cell_type": "code",
   "execution_count": 33,
   "id": "f4f5c0d6",
   "metadata": {},
   "outputs": [],
   "source": [
    "topics_dict = {\n",
    "        'title': topic_name_array,\n",
    "        'description': topic_description_array,\n",
    "        'url': topic_url_array\n",
    "    }\n",
    "data=pd.DataFrame(topics_dict)"
   ]
  },
  {
   "cell_type": "markdown",
   "id": "f87c7122",
   "metadata": {},
   "source": [
    "Converting to csv file"
   ]
  },
  {
   "cell_type": "code",
   "execution_count": 70,
   "id": "d54cac88",
   "metadata": {},
   "outputs": [],
   "source": [
    "data.to_excel('github_topic.xlsx',index=None)"
   ]
  },
  {
   "cell_type": "markdown",
   "id": "25eb481d",
   "metadata": {},
   "source": [
    "Now getting each topic data"
   ]
  },
  {
   "cell_type": "code",
   "execution_count": 66,
   "id": "68bcf34c",
   "metadata": {},
   "outputs": [],
   "source": [
    "username_array=[]\n",
    "user_url_array=[]\n",
    "stars_array=[]\n",
    "for i in range(len(topic_url_array)):\n",
    "    response_topic = requests.get(topic_url_array[i])\n",
    "    soup_topic=BeautifulSoup(response_topic.text,'html.parser')\n",
    "    main_tag = soup_topic.find_all('h3',class_=\"f3 color-fg-muted text-normal lh-condensed\")\n",
    "    a_tags = main_tag[0].find_all('a')\n",
    "    \n",
    "    username= a_tags[0].text.strip()\n",
    "    username_array.append(username)\n",
    "    \n",
    "    user_url = base_url + a_tags[1]['href']\n",
    "    user_url_array.append(user_url)\n",
    "    \n",
    "    star_tag = soup_topic.find_all('span',id=\"repo-stars-counter-star\")\n",
    "    stars = star_tag[i].text\n",
    "    stars_array.append(stars)"
   ]
  },
  {
   "cell_type": "markdown",
   "id": "69c15b13",
   "metadata": {},
   "source": [
    "Converting to DataFrame"
   ]
  },
  {
   "cell_type": "code",
   "execution_count": 67,
   "id": "7a9f7a34",
   "metadata": {},
   "outputs": [],
   "source": [
    "specific_topics_dict = {\n",
    "        'username': username_array,\n",
    "        'repository link': user_url_array,\n",
    "        'stars': stars_array\n",
    "    }\n",
    "data=pd.DataFrame(specific_topics_dict)"
   ]
  },
  {
   "cell_type": "markdown",
   "id": "a7524294",
   "metadata": {},
   "source": [
    "Converting to excel file"
   ]
  },
  {
   "cell_type": "code",
   "execution_count": 69,
   "id": "9092d53c",
   "metadata": {},
   "outputs": [],
   "source": [
    "data.to_excel('each_topic.xlsx',index=None)"
   ]
  }
 ],
 "metadata": {
  "kernelspec": {
   "display_name": "Python 3 (ipykernel)",
   "language": "python",
   "name": "python3"
  },
  "language_info": {
   "codemirror_mode": {
    "name": "ipython",
    "version": 3
   },
   "file_extension": ".py",
   "mimetype": "text/x-python",
   "name": "python",
   "nbconvert_exporter": "python",
   "pygments_lexer": "ipython3",
   "version": "3.9.7"
  }
 },
 "nbformat": 4,
 "nbformat_minor": 5
}
